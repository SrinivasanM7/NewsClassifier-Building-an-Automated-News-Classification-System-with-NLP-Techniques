{
 "cells": [
  {
   "cell_type": "markdown",
   "metadata": {},
   "source": [
    "## Data Collection"
   ]
  },
  {
   "cell_type": "code",
   "execution_count": 8,
   "metadata": {},
   "outputs": [],
   "source": [
    "from selenium import webdriver # Importing the webdriver\n",
    "import time # For implicit wait\n",
    "import pandas as pd\n",
    "from selenium.webdriver.common.by import By # To find elements"
   ]
  },
  {
   "cell_type": "code",
   "execution_count": 9,
   "metadata": {},
   "outputs": [],
   "source": [
    "# To solve browser automatically closing problem\n",
    "options = webdriver.EdgeOptions()\n",
    "options.add_experimental_option(\"detach\", True)\n",
    "\n",
    "# Define a Driver\n",
    "driver = webdriver.Edge(options = options)\n",
    "\n",
    "# Minimize the browser window\n",
    "driver.maximize_window()"
   ]
  },
  {
   "cell_type": "code",
   "execution_count": 10,
   "metadata": {},
   "outputs": [],
   "source": [
    "def scrape(url, section, pages):\n",
    "    # Fetch the url using the driver\n",
    "    driver.get(url)\n",
    "\n",
    "    # Fetching the Data from CNBC\n",
    "    load_more = driver.find_element(By.CLASS_NAME, 'LoadMoreButton-loadMore')\n",
    "\n",
    "    for i in range(pages):\n",
    "        load_more.click()\n",
    "        time.sleep(5)\n",
    "\n",
    "    news_header = driver.find_elements(By.CLASS_NAME, 'Card-title')\n",
    "\n",
    "    news_data = []\n",
    "\n",
    "    for i in news_header:\n",
    "        news_data.append({'Header':i.text, 'Section':section})\n",
    "\n",
    "    news_df = pd.DataFrame(data = news_data, columns = ['Header', 'Section'])\n",
    "    print(news_df)\n",
    "\n",
    "    print('The number of News Scraped:', len(news_data))\n",
    "\n",
    "    time.sleep(5)\n",
    "\n",
    "    driver.close()\n",
    "\n",
    "    return news_df"
   ]
  },
  {
   "cell_type": "code",
   "execution_count": 7,
   "metadata": {},
   "outputs": [
    {
     "name": "stdout",
     "output_type": "stream",
     "text": [
      "                                                Header     Section\n",
      "0    Xpeng plans to hire 4,000 people, invest in AI...  Technology\n",
      "1    Nintendo shares fall nearly 6% after report th...  Technology\n",
      "2    Singapore’s AI ambitions get a boost with $740...  Technology\n",
      "3    EU reportedly set to fine Apple 500 million eu...  Technology\n",
      "4    Sony plunged $10 billion after its PS5 sales c...  Technology\n",
      "..                                                 ...         ...\n",
      "196  Founders of Wise and Skype raise $436 million ...  Technology\n",
      "197  India’s Zee Entertainment dives 31% after Sony...  Technology\n",
      "198  Tencent’s Riot Games division cuts 11% of staf...  Technology\n",
      "199  YouTube star MrBeast makes more than $263,000 ...  Technology\n",
      "200  New details emerge about SEC’s X account hack,...  Technology\n",
      "\n",
      "[201 rows x 2 columns]\n",
      "The number of News Scraped: 201\n"
     ]
    }
   ],
   "source": [
    "# Define the url\n",
    "url = 'https://www.cnbc.com/technology/'\n",
    "\n",
    "# Technology\n",
    "tech_df = scrape(url,'Technology', 7)\n",
    "\n",
    "# Saving to a CSV\n",
    "tech_df.to_csv('tech.csv', index = False)"
   ]
  },
  {
   "cell_type": "code",
   "execution_count": 12,
   "metadata": {},
   "outputs": [
    {
     "name": "stdout",
     "output_type": "stream",
     "text": [
      "                                                Header   Section\n",
      "0    Wisconsin’s new legislative maps signed into l...  Politics\n",
      "1    ‘China has a lot more to lose’: U.S. consideri...  Politics\n",
      "2    Russia says an investigation is underway into ...  Politics\n",
      "3    Houthis claim ‘catastrophic’ attack in Red Sea...  Politics\n",
      "4    Trump breaks silence on Navalny; Yulia Navalna...  Politics\n",
      "..                                                 ...       ...\n",
      "195  Jury rules Trump must pay E. Jean Carroll $83....  Politics\n",
      "196  Saudi Arabia’s first alcohol store aims to tac...  Politics\n",
      "197  Nikki Haley touts $1.2 million in donations af...  Politics\n",
      "198  Alabama execution using nitrogen gas puts U.S....  Politics\n",
      "199  Top UN court rules Israel must prevent genocid...  Politics\n",
      "\n",
      "[200 rows x 2 columns]\n",
      "The number of News Scraped: 200\n"
     ]
    }
   ],
   "source": [
    "# Define the url\n",
    "url = 'https://www.cnbc.com/politics/'\n",
    "\n",
    "# Politics\n",
    "politics_df = scrape(url,'Politics', 7)\n",
    "\n",
    "# Saving to a CSV\n",
    "politics_df.to_csv('politics.csv', index = False)"
   ]
  },
  {
   "cell_type": "code",
   "execution_count": 3,
   "metadata": {},
   "outputs": [
    {
     "name": "stdout",
     "output_type": "stream",
     "text": [
      "                                                Header    Section\n",
      "0    Top Wall Street analysts like these 3 stocks f...  Investing\n",
      "1    These options plays can help investors profit ...  Investing\n",
      "2    Goldman Sachs likes these five tech stocks com...  Investing\n",
      "3    Cocoa hit a record high. Here’s what’s driving...  Investing\n",
      "4    These are the stocks investors should bet agai...  Investing\n",
      "..                                                 ...        ...\n",
      "196  A lower-cost way to get long this ‘Magnificent...  Investing\n",
      "197  Apple analysts are starting to get a bit worri...  Investing\n",
      "198  Goldman Sachs says the soft landing for the ec...  Investing\n",
      "199  Monday’s analyst calls: Dollar store stock get...  Investing\n",
      "200  Warren Buffett’s Berkshire Hathaway keeps buyi...  Investing\n",
      "\n",
      "[201 rows x 2 columns]\n",
      "The number of News Scraped: 201\n"
     ]
    }
   ],
   "source": [
    "# Define the url\n",
    "url = 'https://www.cnbc.com/investing/'\n",
    "\n",
    "# Investing\n",
    "invest_df = scrape(url,'Investing', 7)\n",
    "\n",
    "# Saving to a CSV\n",
    "invest_df.to_csv('invest.csv', index = False)"
   ]
  },
  {
   "cell_type": "code",
   "execution_count": 3,
   "metadata": {},
   "outputs": [
    {
     "name": "stdout",
     "output_type": "stream",
     "text": [
      "                                                Header             Section\n",
      "0    Most employer health plans don’t cover new blo...  Health_and_Science\n",
      "1    In this fast-paced bull market, we’re increasi...  Health_and_Science\n",
      "2    What Eli Lilly investors can learn from the sl...  Health_and_Science\n",
      "3    FTC, HHS administration examining cause of gen...  Health_and_Science\n",
      "4    Jim Cramer praises GE following U.S. regulator...  Health_and_Science\n",
      "..                                                 ...                 ...\n",
      "196  15 stocks with a history of dividend growth ar...  Health_and_Science\n",
      "197  As Covid-testing business drops, Abbott search...  Health_and_Science\n",
      "198  Microsoft announces new AI tools to help docto...  Health_and_Science\n",
      "199  This animal health stock could gain nearly 30%...  Health_and_Science\n",
      "200  How Ozempic and Wegovy turned Novo Nordisk int...  Health_and_Science\n",
      "\n",
      "[201 rows x 2 columns]\n",
      "The number of News Scraped: 201\n"
     ]
    }
   ],
   "source": [
    "# Define the url\n",
    "url = 'https://www.cnbc.com/health-and-science/'\n",
    "\n",
    "# Health and Science\n",
    "health_science_df = scrape(url,'Health_and_Science', 7)\n",
    "\n",
    "# Saving to a CSV\n",
    "health_science_df.to_csv('healthandscience.csv', index = False)"
   ]
  },
  {
   "cell_type": "code",
   "execution_count": 3,
   "metadata": {},
   "outputs": [
    {
     "name": "stdout",
     "output_type": "stream",
     "text": [
      "                                                Header     Section\n",
      "0    Companies — profitable or not — make 2024 the ...  Automobile\n",
      "1    What the U.S. can learn from Norway when it co...  Automobile\n",
      "2    UAW threatens to strike Ford’s Kentucky Truck ...  Automobile\n",
      "3    2 takeaways from Ford CEO Jim Farley that boos...  Automobile\n",
      "4    Ford CEO says forget Tesla, ‘Pro’ unit is auto...  Automobile\n",
      "..                                                 ...         ...\n",
      "195  GM reaches tentative deal with UAW, ending str...  Automobile\n",
      "196  Canadian auto union reaches deal with Stellant...  Automobile\n",
      "197  UAW deal with Ford includes $8.1 billion in in...  Automobile\n",
      "198  UAW in tentative deal to end labor strike with...  Automobile\n",
      "199  GM, UAW may be nearing a labor deal after mara...  Automobile\n",
      "\n",
      "[200 rows x 2 columns]\n",
      "The number of News Scraped: 200\n"
     ]
    }
   ],
   "source": [
    "# Define the url\n",
    "url = 'https://www.cnbc.com/autos/'\n",
    "\n",
    "# Automobile\n",
    "auto_df = scrape(url,'Automobile', 7)\n",
    "\n",
    "# Saving to a CSV\n",
    "auto_df.to_csv('auto.csv', index = False)"
   ]
  },
  {
   "cell_type": "markdown",
   "metadata": {},
   "source": [
    "##### Load dataset"
   ]
  },
  {
   "cell_type": "code",
   "execution_count": 13,
   "metadata": {},
   "outputs": [],
   "source": [
    "auto = pd.read_csv('auto.csv')\n",
    "healthandscience = pd.read_csv('healthandscience.csv')\n",
    "invest = pd.read_csv('invest.csv')\n",
    "politics = pd.read_csv('politics.csv')\n",
    "tech = pd.read_csv('tech.csv')"
   ]
  },
  {
   "cell_type": "code",
   "execution_count": 14,
   "metadata": {},
   "outputs": [
    {
     "data": {
      "text/html": [
       "<div>\n",
       "<style scoped>\n",
       "    .dataframe tbody tr th:only-of-type {\n",
       "        vertical-align: middle;\n",
       "    }\n",
       "\n",
       "    .dataframe tbody tr th {\n",
       "        vertical-align: top;\n",
       "    }\n",
       "\n",
       "    .dataframe thead th {\n",
       "        text-align: right;\n",
       "    }\n",
       "</style>\n",
       "<table border=\"1\" class=\"dataframe\">\n",
       "  <thead>\n",
       "    <tr style=\"text-align: right;\">\n",
       "      <th></th>\n",
       "      <th>Header</th>\n",
       "      <th>Section</th>\n",
       "    </tr>\n",
       "  </thead>\n",
       "  <tbody>\n",
       "    <tr>\n",
       "      <th>0</th>\n",
       "      <td>Companies — profitable or not — make 2024 the ...</td>\n",
       "      <td>Automobile</td>\n",
       "    </tr>\n",
       "    <tr>\n",
       "      <th>1</th>\n",
       "      <td>What the U.S. can learn from Norway when it co...</td>\n",
       "      <td>Automobile</td>\n",
       "    </tr>\n",
       "    <tr>\n",
       "      <th>2</th>\n",
       "      <td>UAW threatens to strike Ford’s Kentucky Truck ...</td>\n",
       "      <td>Automobile</td>\n",
       "    </tr>\n",
       "    <tr>\n",
       "      <th>3</th>\n",
       "      <td>2 takeaways from Ford CEO Jim Farley that boos...</td>\n",
       "      <td>Automobile</td>\n",
       "    </tr>\n",
       "    <tr>\n",
       "      <th>4</th>\n",
       "      <td>Ford CEO says forget Tesla, ‘Pro’ unit is auto...</td>\n",
       "      <td>Automobile</td>\n",
       "    </tr>\n",
       "  </tbody>\n",
       "</table>\n",
       "</div>"
      ],
      "text/plain": [
       "                                              Header     Section\n",
       "0  Companies — profitable or not — make 2024 the ...  Automobile\n",
       "1  What the U.S. can learn from Norway when it co...  Automobile\n",
       "2  UAW threatens to strike Ford’s Kentucky Truck ...  Automobile\n",
       "3  2 takeaways from Ford CEO Jim Farley that boos...  Automobile\n",
       "4  Ford CEO says forget Tesla, ‘Pro’ unit is auto...  Automobile"
      ]
     },
     "execution_count": 14,
     "metadata": {},
     "output_type": "execute_result"
    }
   ],
   "source": [
    "auto.head()"
   ]
  },
  {
   "cell_type": "code",
   "execution_count": 15,
   "metadata": {},
   "outputs": [
    {
     "data": {
      "text/html": [
       "<div>\n",
       "<style scoped>\n",
       "    .dataframe tbody tr th:only-of-type {\n",
       "        vertical-align: middle;\n",
       "    }\n",
       "\n",
       "    .dataframe tbody tr th {\n",
       "        vertical-align: top;\n",
       "    }\n",
       "\n",
       "    .dataframe thead th {\n",
       "        text-align: right;\n",
       "    }\n",
       "</style>\n",
       "<table border=\"1\" class=\"dataframe\">\n",
       "  <thead>\n",
       "    <tr style=\"text-align: right;\">\n",
       "      <th></th>\n",
       "      <th>Header</th>\n",
       "      <th>Section</th>\n",
       "    </tr>\n",
       "  </thead>\n",
       "  <tbody>\n",
       "    <tr>\n",
       "      <th>0</th>\n",
       "      <td>Companies — profitable or not — make 2024 the ...</td>\n",
       "      <td>Automobile</td>\n",
       "    </tr>\n",
       "    <tr>\n",
       "      <th>1</th>\n",
       "      <td>What the U.S. can learn from Norway when it co...</td>\n",
       "      <td>Automobile</td>\n",
       "    </tr>\n",
       "    <tr>\n",
       "      <th>2</th>\n",
       "      <td>UAW threatens to strike Ford’s Kentucky Truck ...</td>\n",
       "      <td>Automobile</td>\n",
       "    </tr>\n",
       "    <tr>\n",
       "      <th>3</th>\n",
       "      <td>2 takeaways from Ford CEO Jim Farley that boos...</td>\n",
       "      <td>Automobile</td>\n",
       "    </tr>\n",
       "    <tr>\n",
       "      <th>4</th>\n",
       "      <td>Ford CEO says forget Tesla, ‘Pro’ unit is auto...</td>\n",
       "      <td>Automobile</td>\n",
       "    </tr>\n",
       "    <tr>\n",
       "      <th>...</th>\n",
       "      <td>...</td>\n",
       "      <td>...</td>\n",
       "    </tr>\n",
       "    <tr>\n",
       "      <th>998</th>\n",
       "      <td>Founders of Wise and Skype raise $436 million ...</td>\n",
       "      <td>Technology</td>\n",
       "    </tr>\n",
       "    <tr>\n",
       "      <th>999</th>\n",
       "      <td>India’s Zee Entertainment dives 31% after Sony...</td>\n",
       "      <td>Technology</td>\n",
       "    </tr>\n",
       "    <tr>\n",
       "      <th>1000</th>\n",
       "      <td>Tencent’s Riot Games division cuts 11% of staf...</td>\n",
       "      <td>Technology</td>\n",
       "    </tr>\n",
       "    <tr>\n",
       "      <th>1001</th>\n",
       "      <td>YouTube star MrBeast makes more than $263,000 ...</td>\n",
       "      <td>Technology</td>\n",
       "    </tr>\n",
       "    <tr>\n",
       "      <th>1002</th>\n",
       "      <td>New details emerge about SEC’s X account hack,...</td>\n",
       "      <td>Technology</td>\n",
       "    </tr>\n",
       "  </tbody>\n",
       "</table>\n",
       "<p>1003 rows × 2 columns</p>\n",
       "</div>"
      ],
      "text/plain": [
       "                                                 Header     Section\n",
       "0     Companies — profitable or not — make 2024 the ...  Automobile\n",
       "1     What the U.S. can learn from Norway when it co...  Automobile\n",
       "2     UAW threatens to strike Ford’s Kentucky Truck ...  Automobile\n",
       "3     2 takeaways from Ford CEO Jim Farley that boos...  Automobile\n",
       "4     Ford CEO says forget Tesla, ‘Pro’ unit is auto...  Automobile\n",
       "...                                                 ...         ...\n",
       "998   Founders of Wise and Skype raise $436 million ...  Technology\n",
       "999   India’s Zee Entertainment dives 31% after Sony...  Technology\n",
       "1000  Tencent’s Riot Games division cuts 11% of staf...  Technology\n",
       "1001  YouTube star MrBeast makes more than $263,000 ...  Technology\n",
       "1002  New details emerge about SEC’s X account hack,...  Technology\n",
       "\n",
       "[1003 rows x 2 columns]"
      ]
     },
     "execution_count": 15,
     "metadata": {},
     "output_type": "execute_result"
    }
   ],
   "source": [
    "news_classifier_df = pd.concat([auto,healthandscience,invest,politics,tech],axis=0)\n",
    "news_classifier_df.reset_index(drop=True, inplace=True)\n",
    "news_classifier_df"
   ]
  },
  {
   "cell_type": "code",
   "execution_count": 16,
   "metadata": {},
   "outputs": [],
   "source": [
    "# Saving to a CSV file\n",
    "news_classifier_df.to_csv('news_classifier_dataset.csv', index = False)"
   ]
  }
 ],
 "metadata": {
  "kernelspec": {
   "display_name": "Python 3",
   "language": "python",
   "name": "python3"
  },
  "language_info": {
   "codemirror_mode": {
    "name": "ipython",
    "version": 3
   },
   "file_extension": ".py",
   "mimetype": "text/x-python",
   "name": "python",
   "nbconvert_exporter": "python",
   "pygments_lexer": "ipython3",
   "version": "3.12.2"
  }
 },
 "nbformat": 4,
 "nbformat_minor": 2
}
