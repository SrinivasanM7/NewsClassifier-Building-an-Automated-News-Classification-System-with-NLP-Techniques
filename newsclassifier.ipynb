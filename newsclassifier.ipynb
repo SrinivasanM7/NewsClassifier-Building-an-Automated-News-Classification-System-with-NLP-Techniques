{
 "cells": [
  {
   "cell_type": "markdown",
   "metadata": {},
   "source": [
    "## Text Preprocessing"
   ]
  },
  {
   "cell_type": "code",
   "execution_count": 47,
   "metadata": {},
   "outputs": [],
   "source": [
    "# Pakages\n",
    "import spacy\n",
    "import pandas as pd\n",
    "import re"
   ]
  },
  {
   "cell_type": "code",
   "execution_count": 48,
   "metadata": {},
   "outputs": [],
   "source": [
    "# Spacy Object\n",
    "processing = spacy.load('en_core_web_md')"
   ]
  },
  {
   "cell_type": "code",
   "execution_count": 49,
   "metadata": {},
   "outputs": [
    {
     "name": "stdout",
     "output_type": "stream",
     "text": [
      "(1003, 2)\n"
     ]
    },
    {
     "data": {
      "text/html": [
       "<div>\n",
       "<style scoped>\n",
       "    .dataframe tbody tr th:only-of-type {\n",
       "        vertical-align: middle;\n",
       "    }\n",
       "\n",
       "    .dataframe tbody tr th {\n",
       "        vertical-align: top;\n",
       "    }\n",
       "\n",
       "    .dataframe thead th {\n",
       "        text-align: right;\n",
       "    }\n",
       "</style>\n",
       "<table border=\"1\" class=\"dataframe\">\n",
       "  <thead>\n",
       "    <tr style=\"text-align: right;\">\n",
       "      <th></th>\n",
       "      <th>Header</th>\n",
       "      <th>Section</th>\n",
       "    </tr>\n",
       "  </thead>\n",
       "  <tbody>\n",
       "    <tr>\n",
       "      <th>0</th>\n",
       "      <td>Companies — profitable or not — make 2024 the ...</td>\n",
       "      <td>Automobile</td>\n",
       "    </tr>\n",
       "    <tr>\n",
       "      <th>1</th>\n",
       "      <td>What the U.S. can learn from Norway when it co...</td>\n",
       "      <td>Automobile</td>\n",
       "    </tr>\n",
       "    <tr>\n",
       "      <th>2</th>\n",
       "      <td>UAW threatens to strike Ford’s Kentucky Truck ...</td>\n",
       "      <td>Automobile</td>\n",
       "    </tr>\n",
       "    <tr>\n",
       "      <th>3</th>\n",
       "      <td>2 takeaways from Ford CEO Jim Farley that boos...</td>\n",
       "      <td>Automobile</td>\n",
       "    </tr>\n",
       "    <tr>\n",
       "      <th>4</th>\n",
       "      <td>Ford CEO says forget Tesla, ‘Pro’ unit is auto...</td>\n",
       "      <td>Automobile</td>\n",
       "    </tr>\n",
       "  </tbody>\n",
       "</table>\n",
       "</div>"
      ],
      "text/plain": [
       "                                              Header     Section\n",
       "0  Companies — profitable or not — make 2024 the ...  Automobile\n",
       "1  What the U.S. can learn from Norway when it co...  Automobile\n",
       "2  UAW threatens to strike Ford’s Kentucky Truck ...  Automobile\n",
       "3  2 takeaways from Ford CEO Jim Farley that boos...  Automobile\n",
       "4  Ford CEO says forget Tesla, ‘Pro’ unit is auto...  Automobile"
      ]
     },
     "execution_count": 49,
     "metadata": {},
     "output_type": "execute_result"
    }
   ],
   "source": [
    "# Load the data\n",
    "df = pd.read_csv('news_classifier_dataset.csv')\n",
    "print(df.shape)\n",
    "df.head()"
   ]
  },
  {
   "cell_type": "code",
   "execution_count": 50,
   "metadata": {},
   "outputs": [
    {
     "name": "stderr",
     "output_type": "stream",
     "text": [
      "<>:6: SyntaxWarning: invalid escape sequence '\\s'\n",
      "<>:6: SyntaxWarning: invalid escape sequence '\\s'\n",
      "C:\\Users\\Admin\\AppData\\Local\\Temp\\ipykernel_2924\\2647413375.py:6: SyntaxWarning: invalid escape sequence '\\s'\n",
      "  news = re.sub('[^a-zA-Z\\s]', '', i)\n"
     ]
    }
   ],
   "source": [
    "# Text Preprocessing using Spacy\n",
    "corpus = []\n",
    "\n",
    "for i in df['Header']:\n",
    "    # Replacing numbers and Special Characters with whitespace\n",
    "    news = re.sub('[^a-zA-Z\\s]', '', i)\n",
    "\n",
    "    # Convert the String to lowercase\n",
    "    news = news.lower()\n",
    "\n",
    "    # Removing Stop word and Lemmatization\n",
    "    doc = processing(news)\n",
    "    \n",
    "    news = [token.lemma_ for token in doc if not token.is_stop]\n",
    "    news = ' '.join(news)\n",
    "\n",
    "    corpus.append({'Header':news})"
   ]
  },
  {
   "cell_type": "code",
   "execution_count": 51,
   "metadata": {},
   "outputs": [
    {
     "data": {
      "text/plain": [
       "1003"
      ]
     },
     "execution_count": 51,
     "metadata": {},
     "output_type": "execute_result"
    }
   ],
   "source": [
    "len(corpus)"
   ]
  },
  {
   "cell_type": "code",
   "execution_count": 52,
   "metadata": {},
   "outputs": [
    {
     "data": {
      "text/html": [
       "<div>\n",
       "<style scoped>\n",
       "    .dataframe tbody tr th:only-of-type {\n",
       "        vertical-align: middle;\n",
       "    }\n",
       "\n",
       "    .dataframe tbody tr th {\n",
       "        vertical-align: top;\n",
       "    }\n",
       "\n",
       "    .dataframe thead th {\n",
       "        text-align: right;\n",
       "    }\n",
       "</style>\n",
       "<table border=\"1\" class=\"dataframe\">\n",
       "  <thead>\n",
       "    <tr style=\"text-align: right;\">\n",
       "      <th></th>\n",
       "      <th>Header</th>\n",
       "      <th>Section</th>\n",
       "    </tr>\n",
       "  </thead>\n",
       "  <tbody>\n",
       "    <tr>\n",
       "      <th>0</th>\n",
       "      <td>company   profitable     year cost cut</td>\n",
       "      <td>Automobile</td>\n",
       "    </tr>\n",
       "    <tr>\n",
       "      <th>1</th>\n",
       "      <td>learn norway come ev adoption</td>\n",
       "      <td>Automobile</td>\n",
       "    </tr>\n",
       "    <tr>\n",
       "      <th>2</th>\n",
       "      <td>uaw threaten strike ford kentucky truck plant ...</td>\n",
       "      <td>Automobile</td>\n",
       "    </tr>\n",
       "    <tr>\n",
       "      <th>3</th>\n",
       "      <td>takeaway ford ceo jim farley boost confidenc...</td>\n",
       "      <td>Automobile</td>\n",
       "    </tr>\n",
       "    <tr>\n",
       "      <th>4</th>\n",
       "      <td>ford ceo say forget tesla pro unit auto indust...</td>\n",
       "      <td>Automobile</td>\n",
       "    </tr>\n",
       "    <tr>\n",
       "      <th>...</th>\n",
       "      <td>...</td>\n",
       "      <td>...</td>\n",
       "    </tr>\n",
       "    <tr>\n",
       "      <th>998</th>\n",
       "      <td>founder wise skype raise   million build tech ...</td>\n",
       "      <td>Technology</td>\n",
       "    </tr>\n",
       "    <tr>\n",
       "      <th>999</th>\n",
       "      <td>indias zee entertainment dive   sony call mega...</td>\n",
       "      <td>Technology</td>\n",
       "    </tr>\n",
       "    <tr>\n",
       "      <th>1000</th>\n",
       "      <td>tencent riot game division cut   staff create ...</td>\n",
       "      <td>Technology</td>\n",
       "    </tr>\n",
       "    <tr>\n",
       "      <th>1001</th>\n",
       "      <td>youtube star mrbeast make   x video call bit f...</td>\n",
       "      <td>Technology</td>\n",
       "    </tr>\n",
       "    <tr>\n",
       "      <th>1002</th>\n",
       "      <td>new detail emerge sec x account hack include s...</td>\n",
       "      <td>Technology</td>\n",
       "    </tr>\n",
       "  </tbody>\n",
       "</table>\n",
       "<p>1003 rows × 2 columns</p>\n",
       "</div>"
      ],
      "text/plain": [
       "                                                 Header     Section\n",
       "0                company   profitable     year cost cut  Automobile\n",
       "1                         learn norway come ev adoption  Automobile\n",
       "2     uaw threaten strike ford kentucky truck plant ...  Automobile\n",
       "3       takeaway ford ceo jim farley boost confidenc...  Automobile\n",
       "4     ford ceo say forget tesla pro unit auto indust...  Automobile\n",
       "...                                                 ...         ...\n",
       "998   founder wise skype raise   million build tech ...  Technology\n",
       "999   indias zee entertainment dive   sony call mega...  Technology\n",
       "1000  tencent riot game division cut   staff create ...  Technology\n",
       "1001  youtube star mrbeast make   x video call bit f...  Technology\n",
       "1002  new detail emerge sec x account hack include s...  Technology\n",
       "\n",
       "[1003 rows x 2 columns]"
      ]
     },
     "execution_count": 52,
     "metadata": {},
     "output_type": "execute_result"
    }
   ],
   "source": [
    "processed_header = pd.DataFrame(data = corpus, columns = ['Header'])\n",
    "\n",
    "section_df = df['Section']\n",
    "\n",
    "processed_df = pd.concat([processed_header, section_df], axis = 1)\n",
    "processed_df"
   ]
  },
  {
   "cell_type": "code",
   "execution_count": 53,
   "metadata": {},
   "outputs": [
    {
     "name": "stderr",
     "output_type": "stream",
     "text": [
      "<>:9: SyntaxWarning: invalid escape sequence '\\s'\n",
      "<>:9: SyntaxWarning: invalid escape sequence '\\s'\n",
      "C:\\Users\\Admin\\AppData\\Local\\Temp\\ipykernel_2924\\1985162503.py:9: SyntaxWarning: invalid escape sequence '\\s'\n",
      "  news = re.sub('[^a-zA-Z\\s]', '', text)\n"
     ]
    }
   ],
   "source": [
    "# Text preprocessing function\n",
    "def processing(text):\n",
    "\n",
    "    processing = spacy.load('en_core_web_md')\n",
    "    \n",
    "    corpus = []\n",
    "\n",
    "    # Replacing numbers and Special Characters with whitespace\n",
    "    news = re.sub('[^a-zA-Z\\s]', '', text)\n",
    "\n",
    "    # Convert the String to lowercase\n",
    "    news = news.lower()\n",
    "\n",
    "    # Removing Stop word and Lemmatisation\n",
    "    doc = processing(news)\n",
    "    \n",
    "    news = [token.lemma_ for token in doc if not token.is_stop]\n",
    "    news = ' '.join(news)\n",
    "\n",
    "    corpus.append({'Header':news})\n",
    "\n",
    "    processed_header = pd.DataFrame(data = corpus, columns = ['Header'])\n",
    "\n",
    "    return processed_header"
   ]
  },
  {
   "cell_type": "markdown",
   "metadata": {},
   "source": [
    "## Model Building"
   ]
  },
  {
   "cell_type": "code",
   "execution_count": 54,
   "metadata": {},
   "outputs": [],
   "source": [
    "# Train Test Split\n",
    "from sklearn.model_selection import train_test_split\n",
    "\n",
    "# Vectorisation module\n",
    "from sklearn.feature_extraction.text import TfidfVectorizer\n",
    "\n",
    "# Classifiers\n",
    "from sklearn.ensemble import RandomForestClassifier\n",
    "from sklearn.svm import SVC\n",
    "from sklearn.neighbors import KNeighborsClassifier\n",
    "from xgboost import XGBClassifier\n",
    "from sklearn.linear_model import LogisticRegression\n",
    "from sklearn.tree import DecisionTreeClassifier\n",
    "\n",
    "# Evaluation metrics\n",
    "from sklearn.metrics import accuracy_score"
   ]
  },
  {
   "cell_type": "code",
   "execution_count": 55,
   "metadata": {},
   "outputs": [
    {
     "data": {
      "text/html": [
       "<div>\n",
       "<style scoped>\n",
       "    .dataframe tbody tr th:only-of-type {\n",
       "        vertical-align: middle;\n",
       "    }\n",
       "\n",
       "    .dataframe tbody tr th {\n",
       "        vertical-align: top;\n",
       "    }\n",
       "\n",
       "    .dataframe thead th {\n",
       "        text-align: right;\n",
       "    }\n",
       "</style>\n",
       "<table border=\"1\" class=\"dataframe\">\n",
       "  <thead>\n",
       "    <tr style=\"text-align: right;\">\n",
       "      <th></th>\n",
       "      <th>Header</th>\n",
       "      <th>Section</th>\n",
       "    </tr>\n",
       "  </thead>\n",
       "  <tbody>\n",
       "    <tr>\n",
       "      <th>0</th>\n",
       "      <td>company   profitable     year cost cut</td>\n",
       "      <td>Automobile</td>\n",
       "    </tr>\n",
       "    <tr>\n",
       "      <th>1</th>\n",
       "      <td>learn norway come ev adoption</td>\n",
       "      <td>Automobile</td>\n",
       "    </tr>\n",
       "    <tr>\n",
       "      <th>2</th>\n",
       "      <td>uaw threaten strike ford kentucky truck plant ...</td>\n",
       "      <td>Automobile</td>\n",
       "    </tr>\n",
       "    <tr>\n",
       "      <th>3</th>\n",
       "      <td>takeaway ford ceo jim farley boost confidenc...</td>\n",
       "      <td>Automobile</td>\n",
       "    </tr>\n",
       "    <tr>\n",
       "      <th>4</th>\n",
       "      <td>ford ceo say forget tesla pro unit auto indust...</td>\n",
       "      <td>Automobile</td>\n",
       "    </tr>\n",
       "  </tbody>\n",
       "</table>\n",
       "</div>"
      ],
      "text/plain": [
       "                                              Header     Section\n",
       "0             company   profitable     year cost cut  Automobile\n",
       "1                      learn norway come ev adoption  Automobile\n",
       "2  uaw threaten strike ford kentucky truck plant ...  Automobile\n",
       "3    takeaway ford ceo jim farley boost confidenc...  Automobile\n",
       "4  ford ceo say forget tesla pro unit auto indust...  Automobile"
      ]
     },
     "execution_count": 55,
     "metadata": {},
     "output_type": "execute_result"
    }
   ],
   "source": [
    "df = processed_df\n",
    "df.head()"
   ]
  },
  {
   "cell_type": "code",
   "execution_count": 56,
   "metadata": {},
   "outputs": [
    {
     "data": {
      "text/plain": [
       "Section\n",
       "Health_and_Science    201\n",
       "Investing             201\n",
       "Technology            201\n",
       "Automobile            200\n",
       "Politics              200\n",
       "Name: count, dtype: int64"
      ]
     },
     "execution_count": 56,
     "metadata": {},
     "output_type": "execute_result"
    }
   ],
   "source": [
    "df['Section'].value_counts()"
   ]
  },
  {
   "cell_type": "code",
   "execution_count": 57,
   "metadata": {},
   "outputs": [],
   "source": [
    "df['Target'] = df['Section'].map({'Technology':0, 'Automobile':1,'Health_and_Science':2, 'Investing':3, 'Politics':4})"
   ]
  },
  {
   "cell_type": "code",
   "execution_count": 58,
   "metadata": {},
   "outputs": [
    {
     "data": {
      "text/plain": [
       "0    1\n",
       "1    1\n",
       "2    1\n",
       "3    1\n",
       "4    1\n",
       "Name: Target, dtype: int64"
      ]
     },
     "execution_count": 58,
     "metadata": {},
     "output_type": "execute_result"
    }
   ],
   "source": [
    "df['Target'].head()"
   ]
  },
  {
   "cell_type": "code",
   "execution_count": 59,
   "metadata": {},
   "outputs": [
    {
     "name": "stdout",
     "output_type": "stream",
     "text": [
      "(802,) (201,)\n"
     ]
    }
   ],
   "source": [
    "# Train Test Split\n",
    "x = df['Header']\n",
    "y = df['Target']\n",
    "\n",
    "x_train, x_test, y_train, y_test = train_test_split(x, y, test_size = 0.2, random_state = 42)\n",
    "print(x_train.shape, x_test.shape)"
   ]
  },
  {
   "cell_type": "code",
   "execution_count": 60,
   "metadata": {},
   "outputs": [],
   "source": [
    "# Vectorization of text\n",
    "tfidf = TfidfVectorizer()\n",
    "\n",
    "x_train_vectorized = tfidf.fit_transform(x_train)\n",
    "x_test_vectorized  = tfidf.transform(x_test)"
   ]
  },
  {
   "cell_type": "code",
   "execution_count": 61,
   "metadata": {},
   "outputs": [],
   "source": [
    "# Defining the model\n",
    "def model_training(model_name, x_train, y_train):\n",
    "    if model_name == 'RandomForestClassifier':\n",
    "        model = RandomForestClassifier(random_state = 42)\n",
    "\n",
    "    elif model_name == 'XGBClassifier':\n",
    "        model = XGBClassifier(random_state = 42)\n",
    "\n",
    "    elif model_name == 'SVC':\n",
    "        model = SVC(random_state = 42)\n",
    " \n",
    "    elif model_name == 'KNeighborsClassifier':\n",
    "        model = KNeighborsClassifier()        \n",
    "\n",
    "    elif model_name == 'LogisticRegression':\n",
    "        model = LogisticRegression(random_state = 42) \n",
    "\n",
    "    elif model_name == 'DecisionTreeClassifier':\n",
    "        model = DecisionTreeClassifier(random_state = 42) \n",
    "    \n",
    "    model.fit(x_train, y_train)\n",
    "\n",
    "    return model"
   ]
  },
  {
   "cell_type": "code",
   "execution_count": 62,
   "metadata": {},
   "outputs": [],
   "source": [
    "# Evaluation\n",
    "\n",
    "def evaluation_metrics(y_test, y_pred):\n",
    "    accuracy = accuracy_score(y_test, y_pred)\n",
    "\n",
    "    return f'{round(accuracy*100)}%'"
   ]
  },
  {
   "cell_type": "markdown",
   "metadata": {},
   "source": [
    "#### Random Forest Classifier"
   ]
  },
  {
   "cell_type": "code",
   "execution_count": 63,
   "metadata": {},
   "outputs": [
    {
     "name": "stdout",
     "output_type": "stream",
     "text": [
      "The Accuracy score of training set : 98%\n",
      "The Accuracy score of testing set : 75%\n"
     ]
    }
   ],
   "source": [
    "rfc = model_training('RandomForestClassifier', x_train_vectorized, y_train)\n",
    "\n",
    "y_train_pred_1 = rfc.predict(x_train_vectorized)\n",
    "y_test_pred_1 = rfc.predict(x_test_vectorized)\n",
    "\n",
    "train_score_1 = evaluation_metrics(y_train, y_train_pred_1)\n",
    "print('The Accuracy score of training set :',train_score_1)\n",
    "\n",
    "test_score_1 = evaluation_metrics(y_test, y_test_pred_1)\n",
    "print('The Accuracy score of testing set :',test_score_1)"
   ]
  },
  {
   "cell_type": "markdown",
   "metadata": {},
   "source": [
    "#### XGB Classifier"
   ]
  },
  {
   "cell_type": "code",
   "execution_count": 64,
   "metadata": {},
   "outputs": [
    {
     "name": "stdout",
     "output_type": "stream",
     "text": [
      "The Accuracy score of training set : 97%\n",
      "The Accuracy score of testing set : 71%\n"
     ]
    }
   ],
   "source": [
    "xgbc = model_training('XGBClassifier', x_train_vectorized, y_train)\n",
    "\n",
    "y_train_pred_2 = xgbc.predict(x_train_vectorized)\n",
    "y_test_pred_2 = xgbc.predict(x_test_vectorized)\n",
    "\n",
    "train_score_2 = evaluation_metrics(y_train, y_train_pred_2)\n",
    "print('The Accuracy score of training set :',train_score_2)\n",
    "\n",
    "test_score_2 = evaluation_metrics(y_test, y_test_pred_2)\n",
    "print('The Accuracy score of testing set :',test_score_2)"
   ]
  },
  {
   "cell_type": "markdown",
   "metadata": {},
   "source": [
    "#### Support Vector Machine"
   ]
  },
  {
   "cell_type": "code",
   "execution_count": 70,
   "metadata": {},
   "outputs": [
    {
     "name": "stdout",
     "output_type": "stream",
     "text": [
      "The Accuracy score of training set : 98%\n",
      "The Accuracy score of testing set : 78%\n"
     ]
    }
   ],
   "source": [
    "svc = model_training('SVC', x_train_vectorized, y_train)\n",
    "\n",
    "y_train_pred_3 = svc.predict(x_train_vectorized)\n",
    "y_test_pred_3 = svc.predict(x_test_vectorized)\n",
    "\n",
    "train_score_3 = evaluation_metrics(y_train, y_train_pred_3)\n",
    "print('The Accuracy score of training set :',train_score_3)\n",
    "\n",
    "test_score_3 = evaluation_metrics(y_test, y_test_pred_3)\n",
    "print('The Accuracy score of testing set :',test_score_3)"
   ]
  },
  {
   "cell_type": "markdown",
   "metadata": {},
   "source": [
    "#### KNeighbors Classifier"
   ]
  },
  {
   "cell_type": "code",
   "execution_count": 66,
   "metadata": {},
   "outputs": [
    {
     "name": "stdout",
     "output_type": "stream",
     "text": [
      "The Accuracy score of training set : 81%\n",
      "The Accuracy score of testing set : 74%\n"
     ]
    }
   ],
   "source": [
    "knc = model_training('KNeighborsClassifier', x_train_vectorized, y_train)\n",
    "\n",
    "y_train_pred_4 = knc.predict(x_train_vectorized)\n",
    "y_test_pred_4 = knc.predict(x_test_vectorized)\n",
    "\n",
    "train_score_4 = evaluation_metrics(y_train, y_train_pred_4)\n",
    "print('The Accuracy score of training set :',train_score_4)\n",
    "\n",
    "test_score_4 = evaluation_metrics(y_test, y_test_pred_4)\n",
    "print('The Accuracy score of testing set :',test_score_4)"
   ]
  },
  {
   "cell_type": "markdown",
   "metadata": {},
   "source": [
    "#### Logistic Regression"
   ]
  },
  {
   "cell_type": "code",
   "execution_count": 69,
   "metadata": {},
   "outputs": [
    {
     "name": "stdout",
     "output_type": "stream",
     "text": [
      "The Accuracy score of training set : 95%\n",
      "The Accuracy score of testing set : 78%\n"
     ]
    }
   ],
   "source": [
    "lr = model_training('LogisticRegression', x_train_vectorized, y_train)\n",
    "\n",
    "y_train_pred_5 = lr.predict(x_train_vectorized)\n",
    "y_test_pred_5 = lr.predict(x_test_vectorized)\n",
    "\n",
    "train_score_5 = evaluation_metrics(y_train, y_train_pred_5)\n",
    "print('The Accuracy score of training set :',train_score_5)\n",
    "\n",
    "test_score_5 = evaluation_metrics(y_test, y_test_pred_5)\n",
    "print('The Accuracy score of testing set :',test_score_5)"
   ]
  },
  {
   "cell_type": "markdown",
   "metadata": {},
   "source": [
    "#### Decision Tree Classifier"
   ]
  },
  {
   "cell_type": "code",
   "execution_count": 68,
   "metadata": {},
   "outputs": [
    {
     "name": "stdout",
     "output_type": "stream",
     "text": [
      "The Accuracy score of training set : 98%\n",
      "The Accuracy score of testing set : 66%\n"
     ]
    }
   ],
   "source": [
    "dtc = model_training('DecisionTreeClassifier', x_train_vectorized, y_train)\n",
    "\n",
    "y_train_pred_6 = dtc.predict(x_train_vectorized)\n",
    "y_test_pred_6 = dtc.predict(x_test_vectorized)\n",
    "\n",
    "train_score_6 = evaluation_metrics(y_train, y_train_pred_6)\n",
    "print('The Accuracy score of training set :',train_score_6)\n",
    "\n",
    "test_score_6 = evaluation_metrics(y_test, y_test_pred_6)\n",
    "print('The Accuracy score of testing set :',test_score_6)"
   ]
  },
  {
   "cell_type": "markdown",
   "metadata": {},
   "source": [
    "##### LogisticRegression Performs better with a Accuracy score of 95% in training set and a Accuracy score of 78% in testing set"
   ]
  },
  {
   "cell_type": "markdown",
   "metadata": {},
   "source": [
    "#### Hyper Parameter Tuning"
   ]
  },
  {
   "cell_type": "code",
   "execution_count": 71,
   "metadata": {},
   "outputs": [],
   "source": [
    "from sklearn.model_selection import GridSearchCV"
   ]
  },
  {
   "cell_type": "code",
   "execution_count": 72,
   "metadata": {},
   "outputs": [],
   "source": [
    "# Define hyperparameters grid for Logistic Regression\n",
    "param_grid = {\n",
    "    'penalty': ['l1', 'l2'],  # Regularization type\n",
    "    'C': [0.001, 0.01, 0.1, 1, 10, 100]  # Inverse of regularization strength\n",
    "}"
   ]
  },
  {
   "cell_type": "code",
   "execution_count": 73,
   "metadata": {},
   "outputs": [
    {
     "name": "stderr",
     "output_type": "stream",
     "text": [
      "c:\\Users\\Admin\\AppData\\Local\\Programs\\Python\\Python312\\Lib\\site-packages\\sklearn\\model_selection\\_validation.py:542: FitFailedWarning: \n",
      "30 fits failed out of a total of 60.\n",
      "The score on these train-test partitions for these parameters will be set to nan.\n",
      "If these failures are not expected, you can try to debug them by setting error_score='raise'.\n",
      "\n",
      "Below are more details about the failures:\n",
      "--------------------------------------------------------------------------------\n",
      "30 fits failed with the following error:\n",
      "Traceback (most recent call last):\n",
      "  File \"c:\\Users\\Admin\\AppData\\Local\\Programs\\Python\\Python312\\Lib\\site-packages\\sklearn\\model_selection\\_validation.py\", line 890, in _fit_and_score\n",
      "    estimator.fit(X_train, y_train, **fit_params)\n",
      "  File \"c:\\Users\\Admin\\AppData\\Local\\Programs\\Python\\Python312\\Lib\\site-packages\\sklearn\\base.py\", line 1351, in wrapper\n",
      "    return fit_method(estimator, *args, **kwargs)\n",
      "           ^^^^^^^^^^^^^^^^^^^^^^^^^^^^^^^^^^^^^^\n",
      "  File \"c:\\Users\\Admin\\AppData\\Local\\Programs\\Python\\Python312\\Lib\\site-packages\\sklearn\\linear_model\\_logistic.py\", line 1172, in fit\n",
      "    solver = _check_solver(self.solver, self.penalty, self.dual)\n",
      "             ^^^^^^^^^^^^^^^^^^^^^^^^^^^^^^^^^^^^^^^^^^^^^^^^^^^\n",
      "  File \"c:\\Users\\Admin\\AppData\\Local\\Programs\\Python\\Python312\\Lib\\site-packages\\sklearn\\linear_model\\_logistic.py\", line 67, in _check_solver\n",
      "    raise ValueError(\n",
      "ValueError: Solver lbfgs supports only 'l2' or None penalties, got l1 penalty.\n",
      "\n",
      "  warnings.warn(some_fits_failed_message, FitFailedWarning)\n",
      "c:\\Users\\Admin\\AppData\\Local\\Programs\\Python\\Python312\\Lib\\site-packages\\sklearn\\model_selection\\_search.py:1051: UserWarning: One or more of the test scores are non-finite: [       nan 0.24322205        nan 0.38774845        nan 0.67823758\n",
      "        nan 0.76552019        nan 0.74934006        nan 0.74185559]\n",
      "  warnings.warn(\n"
     ]
    },
    {
     "name": "stdout",
     "output_type": "stream",
     "text": [
      "Best Parameters: {'C': 1, 'penalty': 'l2'}\n",
      "Best CV Score: 0.7655201863354038\n"
     ]
    }
   ],
   "source": [
    "# Perform Grid Search Cross Validation\n",
    "grid_search = GridSearchCV(lr, param_grid, cv=5, n_jobs=-1)\n",
    "grid_search.fit(x_train_vectorized, y_train)\n",
    "\n",
    "# Get best hyperparameters and best score\n",
    "best_params = grid_search.best_params_\n",
    "best_score = grid_search.best_score_\n",
    "\n",
    "print(\"Best Parameters:\", best_params)\n",
    "print(\"Best CV Score:\", best_score)"
   ]
  },
  {
   "cell_type": "code",
   "execution_count": 74,
   "metadata": {},
   "outputs": [
    {
     "name": "stdout",
     "output_type": "stream",
     "text": [
      "Training Accuracy: 0.9538653366583542\n",
      "Testing Accuracy: 0.7761194029850746\n"
     ]
    }
   ],
   "source": [
    "# Passing the parameters and check the accuracy for both training and testing\n",
    "best_logistic_regression = LogisticRegression(**best_params)\n",
    "\n",
    "best_logistic_regression.fit(x_train_vectorized, y_train)\n",
    "\n",
    "# Predicting on training and testing sets\n",
    "train_predictions = best_logistic_regression.predict(x_train_vectorized)\n",
    "test_predictions = best_logistic_regression.predict(x_test_vectorized)\n",
    "\n",
    "# Calculate accuracy on training and testing sets\n",
    "train_accuracy = accuracy_score(y_train, train_predictions)\n",
    "test_accuracy = accuracy_score(y_test, test_predictions)\n",
    "\n",
    "print(\"Training Accuracy:\", train_accuracy)\n",
    "print(\"Testing Accuracy:\", test_accuracy)"
   ]
  },
  {
   "cell_type": "markdown",
   "metadata": {},
   "source": [
    "There is no improvement in accuracy so we use actual Logistic Regression"
   ]
  },
  {
   "cell_type": "markdown",
   "metadata": {},
   "source": [
    "#### Saving the model"
   ]
  },
  {
   "cell_type": "code",
   "execution_count": 75,
   "metadata": {},
   "outputs": [],
   "source": [
    "import pickle\n",
    "\n",
    "# Model Object\n",
    "pickle.dump(lr, open('model.pkl', 'wb'))\n",
    "\n",
    "# Vectorizer\n",
    "pickle.dump(tfidf, open('vectorizer.pkl', 'wb'))"
   ]
  },
  {
   "cell_type": "markdown",
   "metadata": {},
   "source": [
    "#### User input prediction"
   ]
  },
  {
   "cell_type": "code",
   "execution_count": 77,
   "metadata": {},
   "outputs": [
    {
     "name": "stdout",
     "output_type": "stream",
     "text": [
      "Investing\n"
     ]
    }
   ],
   "source": [
    "text = 'Hedge funds took profits in these popular technology stocks during the fourth quarter'\n",
    "# text = 'Russia’s war in Ukraine is igniting an old debate in Brussels over debt'\n",
    "\n",
    "# Text processing\n",
    "\n",
    "processed_df = processing(text)\n",
    "\n",
    "model = pickle.load(open('model.pkl', 'rb'))\n",
    "vectorizer = pickle.load(open('vectorizer.pkl', 'rb'))\n",
    "\n",
    "input_vectorized = vectorizer.transform(processed_df['Header'])\n",
    "\n",
    "input_prediction = model.predict(input_vectorized)\n",
    "\n",
    "if input_prediction == 0:\n",
    "    input_prediction = print('Technology')\n",
    "\n",
    "elif input_prediction == 1:\n",
    "    input_prediction = print('Automobile')\n",
    "\n",
    "elif input_prediction == 2:\n",
    "    input_prediction = print('Health and Science')\n",
    "    \n",
    "elif input_prediction == 3:\n",
    "    input_prediction = print('Investing')\n",
    "    \n",
    "elif input_prediction == 4:\n",
    "    input_prediction = print('Politics')"
   ]
  },
  {
   "cell_type": "code",
   "execution_count": null,
   "metadata": {},
   "outputs": [],
   "source": []
  }
 ],
 "metadata": {
  "kernelspec": {
   "display_name": "Python 3",
   "language": "python",
   "name": "python3"
  },
  "language_info": {
   "codemirror_mode": {
    "name": "ipython",
    "version": 3
   },
   "file_extension": ".py",
   "mimetype": "text/x-python",
   "name": "python",
   "nbconvert_exporter": "python",
   "pygments_lexer": "ipython3",
   "version": "3.12.2"
  }
 },
 "nbformat": 4,
 "nbformat_minor": 2
}
